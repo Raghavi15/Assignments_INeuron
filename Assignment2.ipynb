{
 "cells": [
  {
   "cell_type": "markdown",
   "metadata": {},
   "source": [
    "## Assignment 2\n",
    "\n",
    "##### Raghavi Chanderki"
   ]
  },
  {
   "cell_type": "code",
   "execution_count": 3,
   "metadata": {
    "scrolled": true
   },
   "outputs": [
    {
     "name": "stdout",
     "output_type": "stream",
     "text": [
      "* \n",
      "\n",
      "* * \n",
      "\n",
      "* * * \n",
      "\n",
      "* * * * \n",
      "\n",
      "* * * * * \n",
      "\n",
      "* * * * \n",
      "\n",
      "* * * \n",
      "\n",
      "* * \n",
      "\n",
      "* \n",
      "\n",
      "Wall time: 0 ns\n"
     ]
    }
   ],
   "source": [
    "%%time\n",
    "# Create a pattern\n",
    "\n",
    "\n",
    "max_col=5         # Maximum no. of stars to be printed\n",
    "\n",
    "for i in range(2*max_col-1):\n",
    "    for j in range(max_col):          #For the first half of the pattern\n",
    "        if i>=j and i<max_col:\n",
    "            print(\"*\",end=\" \")\n",
    "    for j in range(max_col,-1,-1):     # For the second half of the pattern\n",
    "        if i>=max_col and j>i-max_col+1:\n",
    "            print(\"*\",end=\" \")\n",
    "    print(\"\\n\")"
   ]
  },
  {
   "cell_type": "code",
   "execution_count": 4,
   "metadata": {},
   "outputs": [
    {
     "name": "stdout",
     "output_type": "stream",
     "text": [
      "Enter a word : INeuron\n"
     ]
    },
    {
     "data": {
      "text/plain": [
       "'norueNI'"
      ]
     },
     "execution_count": 4,
     "metadata": {},
     "output_type": "execute_result"
    }
   ],
   "source": [
    "# Reverse a word\n",
    "\n",
    "# Defining a function with string as a parameter \n",
    "\n",
    "def word_reversal(str1):\n",
    "    return str1[::-1]      \n",
    "    \n",
    "\n",
    "inp_str=input(\"Enter a word : \")        #Take the input \n",
    "word_reversal(inp_str)     #Calling the function here   "
   ]
  },
  {
   "cell_type": "code",
   "execution_count": null,
   "metadata": {},
   "outputs": [],
   "source": []
  }
 ],
 "metadata": {
  "kernelspec": {
   "display_name": "Python 3",
   "language": "python",
   "name": "python3"
  },
  "language_info": {
   "codemirror_mode": {
    "name": "ipython",
    "version": 3
   },
   "file_extension": ".py",
   "mimetype": "text/x-python",
   "name": "python",
   "nbconvert_exporter": "python",
   "pygments_lexer": "ipython3",
   "version": "3.8.5"
  }
 },
 "nbformat": 4,
 "nbformat_minor": 4
}
