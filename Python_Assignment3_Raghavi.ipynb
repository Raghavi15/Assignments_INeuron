{
 "cells": [
  {
   "cell_type": "code",
   "execution_count": 52,
   "metadata": {},
   "outputs": [],
   "source": [
    "#Python to implement myreduce()\n",
    "\n",
    "def myreduce(a_fn,a_list):\n",
    "    l_func=a_fn \n",
    "    res=a_list[0]\n",
    "    for i in a_list[1:]:\n",
    "        res=l_func(res,i) \n",
    "    return res\n",
    "\n",
    "#Defining a function to pass as an argument to myreduce()\n",
    "\n",
    "def mysum(a1,a2):\n",
    "    return a1+a2\n"
   ]
  },
  {
   "cell_type": "code",
   "execution_count": 115,
   "metadata": {},
   "outputs": [
    {
     "name": "stdout",
     "output_type": "stream",
     "text": [
      "10\n",
      "24\n",
      "1234\n"
     ]
    }
   ],
   "source": [
    "#Output:\n",
    "\n",
    "print(myreduce(mysum,[1,2,3,4]))\n",
    "print(myreduce(lambda x,y:x*y,[1,2,3,4]))\n",
    "print(myreduce(lambda x,y:x+y,['1','2','3','4']))"
   ]
  },
  {
   "cell_type": "code",
   "execution_count": 112,
   "metadata": {},
   "outputs": [],
   "source": [
    "#Program to implement your own myfilter() function\n",
    "\n",
    "def myfilter(a_func,a_list):\n",
    "    l_func=a_func\n",
    "    \n",
    "    res=[]\n",
    "    for i in a_list:\n",
    "        a=l_func(i)\n",
    "        \n",
    "        if bool(a) == True:\n",
    "            res.append(i)\n",
    "    return res"
   ]
  },
  {
   "cell_type": "code",
   "execution_count": 116,
   "metadata": {},
   "outputs": [
    {
     "data": {
      "text/plain": [
       "[2, 4, 6, 8]"
      ]
     },
     "execution_count": 116,
     "metadata": {},
     "output_type": "execute_result"
    }
   ],
   "source": [
    "lst =[1,2,3,4,5,6,7,8]\n",
    "list(myfilter(lambda x:True if x%2==0 else None,lst))"
   ]
  },
  {
   "cell_type": "code",
   "execution_count": 23,
   "metadata": {},
   "outputs": [
    {
     "name": "stdout",
     "output_type": "stream",
     "text": [
      "['x', 'xx', 'xxx', 'xxxx', 'y', 'yy', 'yyy', 'yyyy', 'z', 'zz', 'zzz', 'zzzz']\n",
      "\n",
      "\n",
      "['x', 'y', 'z', 'xx', 'yy', 'zz', 'xxx', 'yyy', 'zzz', 'xxxx', 'yyyy', 'zzzz']\n",
      "\n",
      "\n",
      "[[2], [3], [4], [3], [4], [5], [4], [5], [6]]\n",
      "\n",
      "\n",
      "[[2, 3, 4, 5], [3, 4, 5, 6], [4, 5, 6, 7], [5, 6, 7, 8]]\n",
      "\n",
      "\n",
      "[(1, 1), (2, 1), (3, 1), (1, 2), (2, 2), (3, 2), (1, 3), (2, 3), (3, 3)]\n"
     ]
    }
   ],
   "source": [
    "##Implement List comprehensions to produce the following lists.\n",
    "#Write List comprehensions to produce the following Lists\n",
    "\n",
    "#['x', 'xx', 'xxx', 'xxxx', 'y', 'yy', 'yyy', 'yyyy', 'z', 'zz', 'zzz', 'zzzz']\n",
    "print([i*a for a in ['x','y','z'] for i in range(1,5)])\n",
    "print('\\n')\n",
    "\n",
    "#['x', 'y', 'z', 'xx', 'yy', 'zz', 'xxx', 'yyy', 'zzz', 'xxxx', 'yyyy', 'zzzz']\n",
    "print([i*a for i in range(1,5) for a in ['x','y','z']])\n",
    "print('\\n')\n",
    "\n",
    "#[[2], [3], [4], [3], [4], [5], [4], [5], [6]] \n",
    "print([[i+j] for i in range(1,4) for j in range(1,4)])\n",
    "print('\\n')\n",
    "\n",
    "#[[2, 3, 4, 5], [3, 4, 5, 6],[4, 5, 6, 7], [5, 6, 7, 8]]\n",
    "print([list(range(i,i+4)) for i in range(2,6)])\n",
    "print('\\n')\n",
    "\n",
    "#[(1, 1), (2, 1), (3, 1), (1, 2), (2, 2), (3, 2), (1, 3), (2, 3), (3, 3)]\n",
    "print([(x,y) for y in (1,2,3) for x in (1,2,3)])"
   ]
  },
  {
   "cell_type": "code",
   "execution_count": null,
   "metadata": {},
   "outputs": [],
   "source": []
  },
  {
   "cell_type": "code",
   "execution_count": null,
   "metadata": {},
   "outputs": [],
   "source": []
  },
  {
   "cell_type": "code",
   "execution_count": null,
   "metadata": {},
   "outputs": [],
   "source": []
  }
 ],
 "metadata": {
  "kernelspec": {
   "display_name": "Python 3",
   "language": "python",
   "name": "python3"
  },
  "language_info": {
   "codemirror_mode": {
    "name": "ipython",
    "version": 3
   },
   "file_extension": ".py",
   "mimetype": "text/x-python",
   "name": "python",
   "nbconvert_exporter": "python",
   "pygments_lexer": "ipython3",
   "version": "3.8.5"
  }
 },
 "nbformat": 4,
 "nbformat_minor": 4
}
